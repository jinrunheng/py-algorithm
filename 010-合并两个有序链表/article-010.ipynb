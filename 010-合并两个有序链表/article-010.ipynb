{
 "cells": [
  {
   "cell_type": "markdown",
   "id": "b4c81cc6852a04cd",
   "metadata": {},
   "source": [
    "## 合并两个有序链表\n",
    "\n",
    "题目链接：https://leetcode.cn/problems/merge-two-sorted-lists/description/\n"
   ]
  },
  {
   "cell_type": "markdown",
   "id": "9c357f9d300012ee",
   "metadata": {},
   "source": [
    "### 迭代\n",
    "\n",
    "我们可以使用依次迭代链表节点的方式来完成本题。\n",
    "\n",
    "合并两个有序链表方法的实现逻辑如下：\n",
    "\n",
    "1. 边界情况处理：如果`list1`或`list2`为空，则直接返回非空的链表。因为空链表与非空链表合并，结果就是那个非空链表。\n",
    "2. 确定合并后链表的头节点：比较`list1`和`list2`的头节点的值，选择较小值的节点作为合并后返回链表的头节点`head`。同时，根据选择的头节点，设置`cur1`和`cur2`分别指向两个链表的当前节点（起始时，`cur1`指向`head.next`，`cur2`指向未被选为头节点的那个链表的头节点）。\n",
    "3. 合并链表：使用`while`循环遍历两个链表。在每一步中，比较`cur1`和`cur2`指向的节点的值，将值较小的节点链接到当前合并链表的末尾（开始时是`head`），并更新相应的`cur1`或`cur2`指针。之后，移动合并链表的末尾指针`cur`。\n",
    "4. 处理剩余节点：当其中一个链表遍历完后，将另一个链表的剩余部分直接链接到合并链表的末尾。\n",
    "5. 返回结果：最后返回合并后链表的头节点`head`。"
   ]
  },
  {
   "cell_type": "code",
   "execution_count": 1,
   "id": "db2b561455fbab9d",
   "metadata": {
    "ExecuteTime": {
     "end_time": "2024-04-10T17:24:22.035023Z",
     "start_time": "2024-04-10T17:24:22.004964Z"
    }
   },
   "outputs": [
    {
     "name": "stdout",
     "output_type": "stream",
     "text": [
      "list1:\n",
      "1 -> 2 -> 4 -> None\n",
      "list2:\n",
      "1 -> 3 -> 5 -> None\n",
      "merged linked list:\n",
      "1 -> 1 -> 2 -> 3 -> 4 -> 5 -> None\n"
     ]
    }
   ],
   "source": [
    "# https://leetcode.cn/problems/merge-two-sorted-lists/\n",
    "# 21. 合并两个有序链表\n",
    "import unittest\n",
    "from typing import Optional\n",
    "\n",
    "\n",
    "class ListNode:\n",
    "    def __init__(self, val=0, next=None):\n",
    "        self.val = val\n",
    "        self.next = next\n",
    "\n",
    "\n",
    "class Solution:\n",
    "\n",
    "    @staticmethod\n",
    "    def print_linked_list(head: Optional[ListNode]):\n",
    "        current = head\n",
    "        while current:\n",
    "            print(f\"{current.val}\", end=\"\")\n",
    "            if current:\n",
    "                print(\" -> \", end=\"\")\n",
    "            current = current.next\n",
    "        print('None')\n",
    "\n",
    "    def mergeTwoLists(self, list1: Optional[ListNode], list2: Optional[ListNode]) -> Optional[ListNode]:\n",
    "        if list1 is None or list2 is None:\n",
    "            return list1 if list1 is not None else list2\n",
    "        head = list1 if list1.val <= list2.val else list2\n",
    "        cur1 = head.next\n",
    "        cur2 = list2 if head == list1 else list1\n",
    "        cur = head\n",
    "        while cur1 and cur2:\n",
    "            if cur1.val <= cur2.val:\n",
    "                cur.next = cur1\n",
    "                cur1 = cur1.next\n",
    "            else:\n",
    "                cur.next = cur2\n",
    "                cur2 = cur2.next\n",
    "            cur = cur.next\n",
    "        cur.next = cur1 if cur1 is not None else cur2\n",
    "        return head\n",
    "\n",
    "\n",
    "class LinkedList:\n",
    "    def __init__(self):\n",
    "        self.head = None\n",
    "\n",
    "    def append(self, data):\n",
    "        if not self.head:\n",
    "            self.head = ListNode(data)\n",
    "        else:\n",
    "            current = self.head\n",
    "            while current.next:\n",
    "                current = current.next\n",
    "            current.next = ListNode(data)\n",
    "\n",
    "\n",
    "sol = Solution()\n",
    "\n",
    "list1 = LinkedList()\n",
    "list2 = LinkedList()\n",
    "list1.append(1)\n",
    "list1.append(2)\n",
    "list1.append(4)\n",
    "print(\"list1:\")\n",
    "sol.print_linked_list(list1.head)\n",
    "\n",
    "list2.append(1)\n",
    "list2.append(3)\n",
    "list2.append(5)\n",
    "print(\"list2:\")\n",
    "sol.print_linked_list(list2.head)\n",
    "\n",
    "head = sol.mergeTwoLists(list1.head, list2.head)\n",
    "print(\"merged linked list:\")\n",
    "sol.print_linked_list(head)\n"
   ]
  },
  {
   "cell_type": "markdown",
   "id": "cef8c66f4d1a8206",
   "metadata": {},
   "source": [
    "我们采用了迭代的思路，这种方法的时间复杂度是`O(n + m)`，其中`n`和`m`分别是两个链表的长度，因为我们最多遍历两个链表各一次。空间复杂度是`O(1)`，因为我们只使用了常数个额外变量，并没有使用任何额外的数据结构来存储链表节点。"
   ]
  },
  {
   "cell_type": "markdown",
   "id": "e3648e95cec4b3c2",
   "metadata": {},
   "source": [
    "### 递归\n",
    "\n",
    "而递归是一种解决该问题的优雅方法。递归的思路是从两个链表头部开始比较节点值，每次选择较小的节点加入到结果链表中，并递归地处理剩余部分，直到一个链表为空。如果某个链表先为空，则直接将另一个非空链表的剩余部分加入到结果链表的尾部。"
   ]
  },
  {
   "cell_type": "code",
   "execution_count": 2,
   "id": "c94e1942147390a1",
   "metadata": {
    "ExecuteTime": {
     "end_time": "2024-04-10T17:24:22.076146Z",
     "start_time": "2024-04-10T17:24:22.037457Z"
    }
   },
   "outputs": [
    {
     "name": "stdout",
     "output_type": "stream",
     "text": [
      "list1:\n",
      "1 -> 2 -> 4 -> None\n",
      "list2:\n",
      "1 -> 3 -> 5 -> None\n",
      "merged linked list:\n",
      "1 -> 1 -> 2 -> 3 -> 4 -> 5 -> None\n"
     ]
    }
   ],
   "source": [
    "# https://leetcode.cn/problems/merge-two-sorted-lists/\n",
    "# 21. 合并两个有序链表\n",
    "from typing import Optional\n",
    "\n",
    "\n",
    "class ListNode:\n",
    "    def __init__(self, val=0, next=None):\n",
    "        self.val = val\n",
    "        self.next = next\n",
    "\n",
    "\n",
    "class Solution:\n",
    "\n",
    "    @staticmethod\n",
    "    def print_linked_list(head: Optional[ListNode]):\n",
    "        current = head\n",
    "        while current:\n",
    "            print(f\"{current.val}\", end=\"\")\n",
    "            if current:\n",
    "                print(\" -> \", end=\"\")\n",
    "            current = current.next\n",
    "        print('None')\n",
    "\n",
    "    def mergeTwoLists(self, list1: Optional[ListNode], list2: Optional[ListNode]) -> Optional[ListNode]:\n",
    "        if list1 is None or list2 is None:\n",
    "            return list1 if list1 is not None else list2\n",
    "        if list1.val <= list2.val:\n",
    "            list1.next = self.mergeTwoLists(list1.next, list2)\n",
    "            return list1\n",
    "        else:\n",
    "            list2.next = self.mergeTwoLists(list2.next, list1)\n",
    "            return list2\n",
    "\n",
    "\n",
    "class LinkedList:\n",
    "    def __init__(self):\n",
    "        self.head = None\n",
    "\n",
    "    def append(self, data):\n",
    "        if not self.head:\n",
    "            self.head = ListNode(data)\n",
    "        else:\n",
    "            current = self.head\n",
    "            while current.next:\n",
    "                current = current.next\n",
    "            current.next = ListNode(data)\n",
    "\n",
    "\n",
    "sol = Solution()\n",
    "\n",
    "list1 = LinkedList()\n",
    "list2 = LinkedList()\n",
    "list1.append(1)\n",
    "list1.append(2)\n",
    "list1.append(4)\n",
    "print(\"list1:\")\n",
    "sol.print_linked_list(list1.head)\n",
    "\n",
    "list2.append(1)\n",
    "list2.append(3)\n",
    "list2.append(5)\n",
    "print(\"list2:\")\n",
    "sol.print_linked_list(list2.head)\n",
    "\n",
    "head = sol.mergeTwoLists(list1.head, list2.head)\n",
    "print(\"merged linked list:\")\n",
    "sol.print_linked_list(head)\n"
   ]
  },
  {
   "cell_type": "markdown",
   "id": "bc9fb1ccd4970bdb",
   "metadata": {},
   "source": [
    "递归方法的复杂度分析：\n",
    "\n",
    "1. 递归方法的时间复杂度仍然是 O(n + m)，其中 n 和 m 分别是两个链表的长度。这是因为我们需要遍历两个链表的所有节点来确定它们的顺序，并将其合并成一个新的有序链表。在递归过程中，每个节点只会被访问和处理一次。\n",
    "2. 而合并两个有序链表递归算法的空间复杂度主要取决于递归调用的栈空间。在最坏的情况下，即两个链表长度相差很大时（比如一个链表很长，另一个链表很短或者为空），递归的深度将接近较长链表的长度。因此，最坏情况下的空间复杂度是 O(n)，其中 n 是较长链表的长度。这是因为每次递归调用都会在调用栈上增加一层，直到达到递归的基准情形（即一个链表为空）。递归方法虽然代码简洁，但对于很长的链表，可能会导致栈溢出（特别是在Python等默认递归深度有限制的语言中）。在实际应用中，如果链表非常长，使用迭代方法可能更为安全和高效。"
   ]
  }
 ],
 "metadata": {
  "kernelspec": {
   "display_name": "Python 3 (ipykernel)",
   "language": "python",
   "name": "python3"
  },
  "language_info": {
   "codemirror_mode": {
    "name": "ipython",
    "version": 3
   },
   "file_extension": ".py",
   "mimetype": "text/x-python",
   "name": "python",
   "nbconvert_exporter": "python",
   "pygments_lexer": "ipython3",
   "version": "3.7.0"
  }
 },
 "nbformat": 4,
 "nbformat_minor": 5
}
