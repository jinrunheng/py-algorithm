{
 "cells": [
  {
   "cell_type": "markdown",
   "source": [
    "## 二叉树遍历的非递归实现"
   ],
   "metadata": {
    "collapsed": false
   },
   "id": "5c21279113b419bc"
  },
  {
   "cell_type": "markdown",
   "source": [
    "### 二叉树的前序遍历"
   ],
   "metadata": {
    "collapsed": false
   },
   "id": "b84ede8b809bb9ca"
  }
 ],
 "metadata": {
  "kernelspec": {
   "display_name": "Python 3",
   "language": "python",
   "name": "python3"
  },
  "language_info": {
   "codemirror_mode": {
    "name": "ipython",
    "version": 2
   },
   "file_extension": ".py",
   "mimetype": "text/x-python",
   "name": "python",
   "nbconvert_exporter": "python",
   "pygments_lexer": "ipython2",
   "version": "2.7.6"
  }
 },
 "nbformat": 4,
 "nbformat_minor": 5
}
