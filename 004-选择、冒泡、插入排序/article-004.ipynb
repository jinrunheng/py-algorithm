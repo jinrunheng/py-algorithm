{
 "cells": [
  {
   "cell_type": "markdown",
   "source": [
    "## 选择、冒泡、插入排序"
   ],
   "metadata": {
    "collapsed": false
   },
   "id": "fd7015c9960be799"
  },
  {
   "cell_type": "markdown",
   "source": [
    "### 选择排序 \n",
    "\n",
    "选择排序（Selection Sort）是一种简单直观的排序算法。这种算法的工作原理是，首先在未排序序列中找到最小（或最大）元素，存放到排序序列的起始位置，然后再从剩余未排序元素中继续寻找最小（或最大）元素，然后放到已排序序列的末尾。以此类推，直到所有元素均排序完毕。\n",
    "\n",
    "以下是使用 Python 实现的选择排序代码（由小到大进行排序）:"
   ],
   "metadata": {
    "collapsed": false
   },
   "id": "bae62c255c87e6df"
  },
  {
   "cell_type": "code",
   "outputs": [],
   "source": [
    "# 选择排序\n",
    "def selection_sort(arr):\n",
    "    for i in range(len(arr)):\n",
    "        min_index = i\n",
    "        for j in range(i + 1, len(arr)):\n",
    "            if arr[j] < arr[min_index]:\n",
    "                min_index = j\n",
    "        arr[i], arr[min_index] = arr[min_index], arr[i]\n",
    "\n",
    "\n",
    "# 测试排序\n",
    "arr = [64, 34, 25, 12, 22, 11, 90]\n",
    "print(\"排序前的数组：\")\n",
    "print(arr)\n",
    "print(\"排序后的数组:\")\n",
    "selection_sort(arr)\n",
    "print(arr)"
   ],
   "metadata": {
    "collapsed": false
   },
   "id": "60155e4fc54e81c2"
  },
  {
   "cell_type": "markdown",
   "source": [
    "1. `selection_sort` 函数接受一个列表 `arr` 作为输入，这个列表是我们想要排序的数组。\n",
    "2. 外层循环 `for i in range(len(arr))`: 遍历整个数组，表示我们已经排序到了哪个位置。例如，当 `i=0` 时，我们正在寻找整个数组中的最小值并将其放在数组的第一个位置。\n",
    "3. 内层循环 `for j in range(i+1, len(arr))`: 在当前未排序的部分（从 `i+1` 到数组末尾）中寻找最小元素的索引。我们通过比较找到最小元素，并将其索引保存在 `min_index` 中。\n",
    "4. 在内层循环结束后，我们已经找到了当前未排序部分的最小元素，然后我们将这个最小元素与当前未排序部分的第一个元素（即索引为 `i` 的元素）交换位置。\n",
    "5. 这个过程会一直重复，直到整个数组都被排序。\n",
    "\n",
    "选择排序是一种简单但效率较低的排序算法，其时间复杂度为 `O(n^2)`，其中 `n` 是列表的长度。"
   ],
   "metadata": {
    "collapsed": false
   },
   "id": "d7cb56e17c9857d7"
  },
  {
   "cell_type": "markdown",
   "source": [
    "### 冒泡排序\n",
    "\n",
    "冒泡排序（Bubble Sort）是一种简单的排序算法，通过重复地遍历待排序的数列，一次比较两个相邻的元素，如果它们的顺序错误就把它们交换过来。这个过程会重复进行，直到整个数列变成有序状态。这个算法的名字由来是因为越小的元素会经由交换慢慢“浮”到数列的顶端，就如同气泡浮到水面上一样，所以被称为冒泡排序。\n",
    "\n",
    "以下是使用 Python 实现的冒泡排序代码（由小到大进行排序）:"
   ],
   "metadata": {
    "collapsed": false
   },
   "id": "cd7b0c085e79a168"
  },
  {
   "cell_type": "code",
   "outputs": [],
   "source": [
    "# 冒泡排序\n",
    "def bubble_sort(arr):\n",
    "    n = len(arr)\n",
    "    for i in range(n):\n",
    "        # 遍历所有数组元素，从0到n-i-1\n",
    "        # 最后一次迭代，最大的数已经在正确的位置\n",
    "        for j in range(0, n - i - 1):\n",
    "            # 如果当前元素大于下一个元素，则交换它们\n",
    "            if arr[j] > arr[j + 1]:\n",
    "                arr[j], arr[j + 1] = arr[j + 1], arr[j]\n",
    "\n",
    "\n",
    "# 测试冒泡排序函数\n",
    "arr = [64, 34, 25, 12, 22, 11, 90]\n",
    "print(\"排序前的数组:\")\n",
    "print(arr)\n",
    "print(\"排序后的数组:\")\n",
    "bubble_sort(arr)\n",
    "print(arr)"
   ],
   "metadata": {
    "collapsed": false
   },
   "id": "52963743b03c61f4"
  },
  {
   "cell_type": "markdown",
   "source": [
    "1. `bubble_sort` 函数接受一个列表 `arr` 作为参数，这个列表是我们要排序的数组。\n",
    "2. 外层循环 `for i in range(n)`: 遍历整个数组，`n` 是数组的长度。这个循环负责保证每一轮都能将当前未排序部分的最大值“冒泡”到正确的位置。\n",
    "3. 内层循环 `for j in range(0, n-i-1)`: 遍历数组中尚未排序的部分。注意循环到 `n-i-1`，因为在每轮循环结束时，最后 `i` 个元素已经是排好序的了。\n",
    "4. 在内层循环中，我们比较相邻的元素 `arr[j] 和 arr[j+1]`。如果 `arr[j]` 大于 `arr[j+1]`，则交换这两个元素的位置。这样，较大的元素就会像气泡一样“浮”到数组的末尾。\n",
    "5. 重复过程，直至排序结束\n",
    "\n",
    "冒泡排序的时间复杂度是 `O(n^2)`，其中 n 是数组的长度。不过，我们会发现一个问题：如果给定数组 `arr` 本身就是已序数组，`bubble_sort` 函数仍然会以 `O(n^2)` 的时间复杂度执行算法，问题出现在我们的算法逻辑上，我们的算法中，可以使用一个 `swapped` 变量来跟踪在内层循环中是否发生了交换。如果在内层循环中没有发生任何交换，说明数组已经是有序的，改进的 `bubble_sort` 函数如下："
   ],
   "metadata": {
    "collapsed": false
   },
   "id": "73eb104cd6367858"
  },
  {
   "cell_type": "code",
   "outputs": [],
   "source": [],
   "metadata": {
    "collapsed": false
   },
   "id": "e1c3516097dba551"
  }
 ],
 "metadata": {
  "kernelspec": {
   "display_name": "Python 3",
   "language": "python",
   "name": "python3"
  },
  "language_info": {
   "codemirror_mode": {
    "name": "ipython",
    "version": 2
   },
   "file_extension": ".py",
   "mimetype": "text/x-python",
   "name": "python",
   "nbconvert_exporter": "python",
   "pygments_lexer": "ipython2",
   "version": "2.7.6"
  }
 },
 "nbformat": 4,
 "nbformat_minor": 5
}
