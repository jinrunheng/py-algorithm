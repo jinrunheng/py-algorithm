{
 "cells": [
  {
   "cell_type": "markdown",
   "source": [
    "## 最小栈\n",
    "\n",
    "题目链接：https://leetcode.cn/problems/min-stack/description/\n",
    "\n",
    "本题要求我们实现一个“最小栈”的数据结构，这个数据结构不仅支持常规的栈操作（如push、pop和查看栈顶元素），还能在常数时间内检索并返回栈中的最小元素。\n",
    "\n",
    "我们先来看下代码："
   ],
   "metadata": {
    "collapsed": false
   },
   "id": "49ceee8eebd6972c"
  },
  {
   "cell_type": "code",
   "outputs": [
    {
     "name": "stdout",
     "output_type": "stream",
     "text": [
      "向 minStack 中添加元素 -2\n",
      "向 minStack 中添加元素 0\n",
      "向 minStack 中添加元素 -3\n",
      "获取 minStack 中的最小值 -3\n",
      "执行 minStack pop\n",
      "执行 minStack top 0\n",
      "获取 minStack 中的最小值 -2\n"
     ]
    }
   ],
   "source": [
    "class Stack:\n",
    "    def __init__(self):\n",
    "        self.stack = []\n",
    "\n",
    "    def push(self, item):\n",
    "        self.stack.append(item)\n",
    "\n",
    "    def pop(self):\n",
    "        if self.is_empty():\n",
    "            raise Exception(\"Stack is empty\")\n",
    "        return self.stack.pop()\n",
    "\n",
    "    def peek(self):\n",
    "        if self.is_empty():\n",
    "            raise Exception(\"Stack is empty\")\n",
    "        return self.stack[-1]\n",
    "\n",
    "    def is_empty(self):\n",
    "        return len(self.stack) == 0\n",
    "\n",
    "    def size(self):\n",
    "        return len(self.stack)\n",
    "\n",
    "\n",
    "class MinStack:\n",
    "\n",
    "    def __init__(self):\n",
    "        self.data_stack = Stack()\n",
    "        self.min_stack = Stack()\n",
    "\n",
    "    def push(self, val: int) -> None:\n",
    "        self.data_stack.push(val)\n",
    "        if self.min_stack.is_empty():\n",
    "            self.min_stack.push(val)\n",
    "        else:\n",
    "            cur_min = self.min_stack.peek()\n",
    "            self.min_stack.push(cur_min) if cur_min < val else self.min_stack.push(val)\n",
    "\n",
    "    def pop(self) -> None:\n",
    "        if self.data_stack.is_empty():\n",
    "            raise Exception(\"Stack is empty\")\n",
    "        self.data_stack.pop()\n",
    "        self.min_stack.pop()\n",
    "\n",
    "    def top(self) -> int:\n",
    "        if self.data_stack.is_empty():\n",
    "            raise Exception(\"Stack is empty\")\n",
    "        return self.data_stack.peek()\n",
    "\n",
    "    def getMin(self) -> int:\n",
    "        if self.min_stack.is_empty():\n",
    "            raise Exception(\"Stack is empty\")\n",
    "        return self.min_stack.peek()\n",
    "\n",
    "\n",
    "minStack = MinStack()\n",
    "print(\"向 minStack 中添加元素 -2\")\n",
    "minStack.push(-2)\n",
    "print(\"向 minStack 中添加元素 0\")\n",
    "minStack.push(0)\n",
    "print(\"向 minStack 中添加元素 -3\")\n",
    "minStack.push(-3)\n",
    "print(\"获取 minStack 中的最小值\", minStack.getMin())  # -3\n",
    "print(\"执行 minStack pop\")\n",
    "minStack.pop()\n",
    "print(\"执行 minStack top\", minStack.top())  # 0\n",
    "print(\"获取 minStack 中的最小值\", minStack.getMin())  # -2\n"
   ],
   "metadata": {
    "collapsed": false,
    "ExecuteTime": {
     "end_time": "2024-04-29T15:31:03.273792Z",
     "start_time": "2024-04-29T15:31:03.249107Z"
    }
   },
   "id": "5508fd65d7ee2f2f",
   "execution_count": 1
  },
  {
   "cell_type": "markdown",
   "source": [
    "为了实现这一功能，我在代码中使用了两个栈：`data_stack`和`min_stack`。\n",
    "\n",
    "- `data_stack`：用于存储实际的数据元素，实现常规的栈操作。\n",
    "- `min_stack`：用于辅助存储到当前为止的最小元素。每次有新元素入栈时，都会检查这个元素是否小于`min_stack`的栈顶元素（即当前最小值）。如果是，则将该元素推入`min_stack`；否则，将`min_stack`的栈顶元素（当前最小值）再次推入`min_stack`。这样，`min_stack`的栈顶元素始终表示当前栈中的最小值。"
   ],
   "metadata": {
    "collapsed": false
   },
   "id": "c9b3de5d76164010"
  },
  {
   "cell_type": "markdown",
   "source": [
    "时间复杂度分析：\n",
    "\n",
    "- push(val):\n",
    "\n",
    "    - 向`data_stack`推入元素的时间复杂度是`O(1)`。\n",
    "    - 向`min_stack`推入元素的时间复杂度也是`O(1)`。\n",
    "    - 获取`min_stack`的栈顶元素（`peek`操作）的时间复杂度是`O(1)`。\n",
    "    - 因此，总的`push`操作的时间复杂度是`O(1)`。\n",
    "- pop():\n",
    "\n",
    "    - 从`data_stack`和`min_stack`中弹出元素的时间复杂度都是`O(1)`。\n",
    "    - 因此，总的`pop`操作的时间复杂度是`O(1)`。\n",
    "- top():\n",
    "\n",
    "    - 获取`data_stack`的栈顶元素（`peek`操作）的时间复杂度是`O(1)`。\n",
    "- getMin():\n",
    "\n",
    "    - 获取`min_stack`的栈顶元素（`peek`操作）的时间复杂度是`O(1)`。\n",
    "    \n",
    "综上所述，所有操作的时间复杂度都是`O(1)`，这使得最小栈在保持常规栈功能的同时，能够高效地检索最小元素。"
   ],
   "metadata": {
    "collapsed": false
   },
   "id": "186d9c4951a808c4"
  }
 ],
 "metadata": {
  "kernelspec": {
   "display_name": "Python 3",
   "language": "python",
   "name": "python3"
  },
  "language_info": {
   "codemirror_mode": {
    "name": "ipython",
    "version": 2
   },
   "file_extension": ".py",
   "mimetype": "text/x-python",
   "name": "python",
   "nbconvert_exporter": "python",
   "pygments_lexer": "ipython2",
   "version": "2.7.6"
  }
 },
 "nbformat": 4,
 "nbformat_minor": 5
}
