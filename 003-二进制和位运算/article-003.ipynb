{
 "cells": [
  {
   "cell_type": "markdown",
   "source": [
    "## 二进制和位运算"
   ],
   "metadata": {
    "collapsed": false
   },
   "id": "8d0f55f503981506"
  },
  {
   "cell_type": "markdown",
   "source": [
    "### 二进制，反码与补码"
   ],
   "metadata": {
    "collapsed": false
   },
   "id": "50cabb7de1eb6bc9"
  },
  {
   "cell_type": "markdown",
   "source": [
    "#### 二进制\n",
    "\n",
    "进制是较为基础的概念，就不再过多解释了。\n",
    "\n",
    "在 Python 中，将一个十进制数转换为二进制，八进制或十六进制非常简单。Python 提供了内置的函数来执行这些转换：\n"
   ],
   "metadata": {
    "collapsed": false
   },
   "id": "303b9349781576c0"
  },
  {
   "cell_type": "code",
   "outputs": [
    {
     "name": "stdout",
     "output_type": "stream",
     "text": [
      "十进制表示：123\n",
      "二进制表示: 0b1111011\n",
      "八进制表示: 0o173\n",
      "十六进制表示: 0x7b\n"
     ]
    }
   ],
   "source": [
    "# 定义一个十进制数  \n",
    "decimal_number = 123  \n",
    "print(f\"十进制表示：{decimal_number}\")  \n",
    "# 转换为二进制  \n",
    "binary_number = bin(decimal_number)  \n",
    "print(f\"二进制表示: {binary_number}\")  # 输出类似 '0b1111011'  \n",
    "  \n",
    "# 转换为八进制  \n",
    "octal_number = oct(decimal_number)  \n",
    "print(f\"八进制表示: {octal_number}\")  # 输出类似 '0o173'  \n",
    "  \n",
    "# 转换为十六进制  \n",
    "hexadecimal_number = hex(decimal_number)  \n",
    "print(f\"十六进制表示: {hexadecimal_number}\")  # 输出类似 '0x7b'"
   ],
   "metadata": {
    "collapsed": false,
    "ExecuteTime": {
     "end_time": "2024-05-02T15:35:15.497257Z",
     "start_time": "2024-05-02T15:35:15.423002Z"
    }
   },
   "id": "9bf59af8401a50ab",
   "execution_count": 5
  },
  {
   "cell_type": "markdown",
   "source": [
    "如果我们想要去掉前缀，可以使用字符串的切片操作："
   ],
   "metadata": {
    "collapsed": false
   },
   "id": "c5a4212fff4f721e"
  },
  {
   "cell_type": "code",
   "outputs": [
    {
     "name": "stdout",
     "output_type": "stream",
     "text": [
      "无前缀二进制表示: 1111011\n",
      "无前缀八进制表示: 173\n",
      "无前缀十六进制表示: 7b\n"
     ]
    }
   ],
   "source": [
    "# 去掉前缀  \n",
    "binary_number_clean = binary_number[2:]  \n",
    "octal_number_clean = octal_number[2:]  \n",
    "hexadecimal_number_clean = hexadecimal_number[2:]  \n",
    "  \n",
    "print(f\"无前缀二进制表示: {binary_number_clean}\")  \n",
    "print(f\"无前缀八进制表示: {octal_number_clean}\")  \n",
    "print(f\"无前缀十六进制表示: {hexadecimal_number_clean}\")"
   ],
   "metadata": {
    "collapsed": false,
    "ExecuteTime": {
     "end_time": "2024-05-02T15:35:57.602855Z",
     "start_time": "2024-05-02T15:35:57.585325Z"
    }
   },
   "id": "ec73fd6347583f02",
   "execution_count": 6
  },
  {
   "cell_type": "markdown",
   "source": [
    "#### 反码与补码\n",
    "- 反码\n",
    "    - 定义：反码通常是用来由原码求补码或者由补码求原码的过渡码。它也是数值存储的一种，多应用于系统环境设置，如Linux平台的目录和文件的默认权限设置umask就是使用的反码原理。\n",
    "    - 表示方法：正数的反码与其原码相同。负数的反码是在其原码的基础上，符号位不变，其余各位取反。例如，如果一个数的原码是10000（代表-0，假设我们只用一个字节来表示），那么它的反码就是11111（除了符号位，其余位都取反）。需要注意的是，+0和-0在反码中的表示是不同的。\n",
    "    - 作用：反码在计算机内部起着由原码求补码或由补码求原码的桥梁作用。它使得计算机可以更容易地进行加减法运算的转换。\n",
    "- 补码\n",
    "    - 定义：补码是计算机中表示有符号整数的一种方法，用于将减法运算转化为加法运算，从而简化了计算机的内部设计。补码也是数值存储的一种重要方式。\n",
    "    - 表示方法：正数的补码与其原码相同。负数的补码是在其原码的基础上，符号位不变，其余各位取反后加1。以8位二进制数为例，整数“-1”的原码是10000001，其补码就是11111111（先取反得到11111110，再加1得到11111111）。在补码表示中，+0和-0的表示是相同的。\n",
    "    - 作用：补码的使用使得计算机可以统一处理加减法运算，提高了运算效率。同时，它也解决了原码中+0和-0表示不一致的问题。\n",
    "\n",
    "说起反码与补码的概念相对要抽象一些，我们来举一个例子：\n",
    "\n",
    "对于32位整数，`11111111 11111111 11111111 11111000` 是一个二进制补码形式的负数。它表示十进制整数的 -8，为了理解它为什么表示-8，我们需要通过以下步骤进行转换：\n",
    "\n",
    "1. 识别符号位：在这个二进制数中，最高位（最左边的位）是1，表明这是一个负数。\n",
    "\n",
    "2. 求反码：为了找到这个负数的绝对值，我们首先需要找到它的反码。反码是通过将补码中的每一位（除了符号位）取反得到的。所以，我们将`11111111 11111111 11111111 11111000`除了符号位以外的所有位取反，得到`10000000 00000000 00000000 00000111`（注意，符号位保持不变）。\n",
    "\n",
    "3. 转换为原码：为了得到这个负数的绝对值，我们需要将反码转换为原码。在二进制补码系统中，原码就是数的直接二进制表示，没有经过取反或加一的操作。将反码转换为原码，我们需要将反码加1。所以，`10000000 00000000 00000000 00000111`加1得到`10000000 00000000 00000000 00001000`。注意，这里的加1操作可能会导致进位，但在这种情况下没有进位发生。\n",
    "\n",
    "4. 解释原码：现在我们有了一个正数的二进制表示`10000000 00000000 00000000 00001000`（忽略符号位）。这个二进制数对应的十进制数是8。\n",
    "\n",
    "5. 应用符号：因为我们知道原始补码表示的是一个负数（由于符号位是1），所以这个数是-8。\n",
    "\n",
    "综上所述，`11111111 11111111 11111111 11111000` 在二进制补码系统中表示的是-8。"
   ],
   "metadata": {
    "collapsed": false
   },
   "id": "e8cec83b28ab696b"
  },
  {
   "cell_type": "markdown",
   "source": [
    "### 常见的位运算\n",
    "\n",
    "常见的位运算主要有以下几种：\n",
    "\n",
    "1. 按位与（&）：\n",
    "\n",
    "    描述：如果两个相应的二进制位都为1，则该位的结果值为1，否则为0。\n",
    "    示例：`a & b`\n",
    "2. 按位或（|）：\n",
    "\n",
    "    描述：如果两个相应的二进制位至少有一个为1，则该位的结果值为1，否则为0。\n",
    "    示例：`a | b`\n",
    "3. 按位异或（^）：\n",
    "\n",
    "    描述：当两个相应的二进制位相异时，结果为1；更容易理解的方式是，异或是“不进位加法”，即 `1 ^ 1`，`0 ^ 0` 结果为 0，`1 ^ 0` 结果为 1。\n",
    "    示例：`a ^ b`\n",
    "4. 按位取反（~）：\n",
    "\n",
    "    描述：对数据的每个二进制位执行取反操作，即把1变为0，0变为1。\n",
    "    示例：`~a`\n",
    "    注意：在Python中，`~a` 的结果是一个负数，这是因为Python使用补码形式存储整数，而 `~a` 实际上是 `a` 的二进制补码取反。\n",
    "5. 左移（<<）：\n",
    "\n",
    "    描述：按位向左移动指定的位数，右侧用0填充。这相当于乘以2的某个幂。\n",
    "    示例：`a << 2`（将a的二进制表示向左移动2位）\n",
    "6. 右移（>>）：\n",
    "\n",
    "    描述：按位向右移动指定的位数，左侧用符号位填充（算术右移）。这相当于整数除以2的某个幂（忽略余数）。\n",
    "    示例：`a >> 2`（将a的二进制表示向右移动2位）\n",
    "7. 无符号右移（>>>）：\n",
    "    \n",
    "    无符号右移与右移类似，但左侧总是用0填充（逻辑右移），不考虑符号位"
   ],
   "metadata": {
    "collapsed": false
   },
   "id": "c6eea977cbf1b084"
  },
  {
   "cell_type": "markdown",
   "source": [
    "#### "
   ],
   "metadata": {
    "collapsed": false
   },
   "id": "da785e13e5b892a9"
  },
  {
   "cell_type": "code",
   "outputs": [
    {
     "name": "stdout",
     "output_type": "stream",
     "text": [
      "右移\n",
      "原始数值（十进制）: -8\n",
      "算术右移两位后（十进制）: -2\n",
      "无符号右移\n",
      "原始数值（十进制）: -8\n",
      "无符号右移两位后（十进制）: 1073741822\n"
     ]
    }
   ],
   "source": [
    "print(\"右移\")\n",
    "# 算术右移示例（Python中的“>>”运算符执行的就是算术右移）  \n",
    "x = -8  # 在二进制中表示为 ...11111111 11111111 11111111 11111000 (对于32位整数)  \n",
    "print(f\"原始数值（十进制）: {x}\")  \n",
    "y = x >> 2  # 右移两位  \n",
    "print(f\"算术右移两位后（十进制）: {y}\")\n",
    "\n",
    "# 模拟无符号右移的函数  \n",
    "def unsigned_right_shift(n, shift):  \n",
    "    mask = (1 << 32) - 1  # 创建一个32位的掩码  \n",
    "    n_unsigned = n & mask  # 将数值视为无符号整数（32位）  \n",
    "    return (n_unsigned >> shift) & mask  # 右移并应用掩码以确保结果在32位范围内  \n",
    "\n",
    "print(\"无符号右移\")\n",
    "  \n",
    "# 无符号右移示例  \n",
    "x = -8  # 同样的数值 -8，但在无符号右移中，我们将其视为一个无符号整数  \n",
    "print(f\"原始数值（十进制）: {x}\")  \n",
    "y_unsigned = unsigned_right_shift(x, 2)  # 模拟无符号右移两位  \n",
    "print(f\"无符号右移两位后（十进制）: {y_unsigned}\")"
   ],
   "metadata": {
    "collapsed": false,
    "ExecuteTime": {
     "end_time": "2024-05-02T09:53:55.172360Z",
     "start_time": "2024-05-02T09:53:55.126401Z"
    }
   },
   "id": "20efdece61c7e536",
   "execution_count": 1
  },
  {
   "cell_type": "code",
   "outputs": [],
   "source": [],
   "metadata": {
    "collapsed": false
   },
   "id": "f0ed1b960945dd8f"
  }
 ],
 "metadata": {
  "kernelspec": {
   "display_name": "Python 3",
   "language": "python",
   "name": "python3"
  },
  "language_info": {
   "codemirror_mode": {
    "name": "ipython",
    "version": 2
   },
   "file_extension": ".py",
   "mimetype": "text/x-python",
   "name": "python",
   "nbconvert_exporter": "python",
   "pygments_lexer": "ipython2",
   "version": "2.7.6"
  }
 },
 "nbformat": 4,
 "nbformat_minor": 5
}
