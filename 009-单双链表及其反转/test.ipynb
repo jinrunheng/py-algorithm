{
 "cells": [
  {
   "cell_type": "markdown",
   "source": [
    "## 单双链表及其反转\n",
    "\n",
    "链表是一种常见的数据结构，它用于存储一系列有序的元素。链表中的元素在内存中不是顺序存储的，而是通过存在元素中的指针链接在一起。"
   ],
   "metadata": {
    "collapsed": false
   },
   "id": "1fe7674d5aaa1af2"
  },
  {
   "cell_type": "markdown",
   "source": [
    "\n",
    "### 单链表\n",
    "单链表中的每个节点只有一个链接，指向下一个节点。单链表有一个“头节点”，它是链表的第一个节点，没有前驱节点。每个节点都包含数据和指向下一个节点的指针。\n",
    "\n",
    "单链表的一个简单方式是定义一个节点类（Node），每个节点包含数据和指向下一个节点的指针：\n",
    "```python\n",
    "class Node:\n",
    "    def __init__(self, data=None):\n",
    "        self.data = data\n",
    "        self.next = None\n",
    "```\n",
    "我们可以用下方式来组织与定义一个链表结构：\n",
    "```python\n",
    "# 1 -> 2 -> 3 -> None\n",
    "node1 = Node(1)\n",
    "node2 = Node(2)\n",
    "node3 = Node(3)\n",
    "node1.next = node2\n",
    "node2.next = node3\n",
    "```\n",
    "当然也有更好的方式，我们可以定义一个链表类 `LinkedList`，这个链表类包含向链表末尾添加元素以及打印链表这两个方法："
   ],
   "metadata": {
    "collapsed": false
   },
   "id": "4b25fbc954c90db2"
  },
  {
   "cell_type": "code",
   "outputs": [
    {
     "name": "stdout",
     "output_type": "stream",
     "text": [
      "1 -> 2 -> 3 -> 1 -> None\n"
     ]
    }
   ],
   "source": [
    "class Node:\n",
    "    def __init__(self, data=None):\n",
    "        self.data = data\n",
    "        self.next = None\n",
    "\n",
    "\n",
    "class LinkedList:\n",
    "    def __init__(self):\n",
    "        self.head = None\n",
    "\n",
    "    def append(self, data):\n",
    "        if not self.head:\n",
    "            self.head = Node(data)\n",
    "        else:\n",
    "            current = self.head\n",
    "            while current.next:\n",
    "                current = current.next\n",
    "            current.next = Node(data)\n",
    "\n",
    "    @staticmethod\n",
    "    def print_linked_list(head):\n",
    "        current = head\n",
    "        while current:\n",
    "            print(f\"{current.data}\", end=\"\")\n",
    "            if current:\n",
    "                print(\" -> \", end=\"\")\n",
    "            current = current.next\n",
    "        print('None')\n",
    "\n",
    "\n",
    "linked_list = LinkedList()\n",
    "linked_list.append(1)\n",
    "linked_list.append(2)\n",
    "linked_list.append(3)\n",
    "linked_list.append(1)\n",
    "linked_list.print_linked_list(linked_list.head)"
   ],
   "metadata": {
    "collapsed": false,
    "ExecuteTime": {
     "end_time": "2024-04-08T16:46:13.291481Z",
     "start_time": "2024-04-08T16:46:13.282049Z"
    }
   },
   "id": "b42e236b8002b7ed",
   "execution_count": 15
  },
  {
   "cell_type": "markdown",
   "source": [
    "### 双链表（双向链表）\n",
    "双链表（双向链表）中的每个节点有两个链接，一个指向前一个节点，另一个指向后一个节点。这使得双向链表在某些情况下比单向链表更加灵活，因为我们可以从两个方向遍历链表。\n",
    "\n",
    "实现双链表的方式与单链表类似，但每个节点需要额外的一个指针来指向前一个节点。\n",
    "\n",
    "双链表的实现如下："
   ],
   "metadata": {
    "collapsed": false
   },
   "id": "852317bbd5a397e4"
  },
  {
   "cell_type": "code",
   "outputs": [
    {
     "name": "stdout",
     "output_type": "stream",
     "text": [
      "None <- 1 <-> 2 <-> 3 <-> 4 -> None\n"
     ]
    }
   ],
   "source": [
    "class DoublyNode:\n",
    "    def __init__(self, data=None):\n",
    "        self.data = data\n",
    "        self.next = None\n",
    "        self.prev = None\n",
    "\n",
    "\n",
    "class DoublyLinkedList:\n",
    "    def __init__(self):\n",
    "        self.head = None\n",
    "        self.tail = None\n",
    "\n",
    "    def append(self, data):\n",
    "        new_node = DoublyNode(data)\n",
    "        if not self.head:\n",
    "            self.head = new_node\n",
    "            self.tail = new_node\n",
    "        else:\n",
    "            new_node.prev = self.tail\n",
    "            self.tail.next = new_node\n",
    "            self.tail = new_node\n",
    "\n",
    "    def print_list(self):\n",
    "        if not self.head:\n",
    "            print('DoublyLinkedList is empty')\n",
    "            return\n",
    "        current = self.head\n",
    "        print('None <- ', end=\"\")\n",
    "        while current:\n",
    "            # 判断是否是第一个节点，如果不是则：\n",
    "            if current.prev:\n",
    "                print(\" <-> \", end=\"\")\n",
    "            print(f\"{current.data}\", end=\"\")\n",
    "            current = current.next\n",
    "            # 如果是最后一个节点，则打印换行\n",
    "            if not current:\n",
    "                print(\" -> None\")\n",
    "\n",
    "\n",
    "dll = DoublyLinkedList()\n",
    "dll.append(1)\n",
    "dll.append(2)\n",
    "dll.append(3)\n",
    "dll.append(4)\n",
    "dll.print_list()"
   ],
   "metadata": {
    "collapsed": false,
    "ExecuteTime": {
     "end_time": "2024-04-08T16:46:13.323033Z",
     "start_time": "2024-04-08T16:46:13.311059Z"
    }
   },
   "id": "6a408ee983402362",
   "execution_count": 16
  }
 ],
 "metadata": {
  "kernelspec": {
   "display_name": "Python 3",
   "language": "python",
   "name": "python3"
  },
  "language_info": {
   "codemirror_mode": {
    "name": "ipython",
    "version": 2
   },
   "file_extension": ".py",
   "mimetype": "text/x-python",
   "name": "python",
   "nbconvert_exporter": "python",
   "pygments_lexer": "ipython2",
   "version": "2.7.6"
  }
 },
 "nbformat": 4,
 "nbformat_minor": 5
}
