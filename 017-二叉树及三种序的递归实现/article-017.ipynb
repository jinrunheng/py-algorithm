{
 "cells": [
  {
   "cell_type": "markdown",
   "source": [
    "## 二叉树及三种序的递归实现\n",
    "\n",
    "二叉树的结构很简单，我们可以定义一个 `Node` 类来表示二叉树的节点，每个节点有一个值和两个子节点（左、右节点）：\n",
    "\n",
    "```python\n",
    "class Node:  \n",
    "    def __init__(self, value, left=None, right=None):  \n",
    "        self.value = value  \n",
    "        self.left = left  \n",
    "        self.right = right\n",
    "```"
   ],
   "metadata": {
    "collapsed": false
   },
   "id": "6e8735ffc48ebaba"
  },
  {
   "cell_type": "markdown",
   "source": [
    "### 二叉树前序遍历\n",
    "\n",
    "前序遍历访问节点的顺序是“根-左-右”。首先访问根节点，然后递归地遍历左子树，最后遍历右子树"
   ],
   "metadata": {
    "collapsed": false
   },
   "id": "b16e09f4a0bd603a"
  },
  {
   "cell_type": "code",
   "outputs": [
    {
     "name": "stdout",
     "output_type": "stream",
     "text": [
      "前序遍历:\n",
      "1 2 4 5 3 "
     ]
    }
   ],
   "source": [
    "class Node:\n",
    "    def __init__(self, value, left=None, right=None):\n",
    "        self.value = value\n",
    "        self.left = left\n",
    "        self.right = right\n",
    "\n",
    "\n",
    "def pre_order_traversal(node):\n",
    "    \"\"\"前序遍历：根->左->右\"\"\"\n",
    "    if node is not None:\n",
    "        print(node.value, end=' ')  # 访问根节点\n",
    "        pre_order_traversal(node.left)  # 遍历左子树\n",
    "        pre_order_traversal(node.right)  # 遍历右子树\n",
    "\n",
    "\n",
    "# 创建一个简单的二叉树\n",
    "#       1\n",
    "#      / \\\n",
    "#     2   3\n",
    "#    / \\\n",
    "#   4   5\n",
    "root = Node(1)\n",
    "root.left = Node(2)\n",
    "root.right = Node(3)\n",
    "root.left.left = Node(4)\n",
    "root.left.right = Node(5)\n",
    "\n",
    "print(\"前序遍历:\")\n",
    "pre_order_traversal(root)  # 输出: 1 2 4 5 3\n"
   ],
   "metadata": {
    "collapsed": false,
    "ExecuteTime": {
     "end_time": "2024-05-09T15:46:09.605809Z",
     "start_time": "2024-05-09T15:46:09.561464Z"
    }
   },
   "id": "da6245d05b990024",
   "execution_count": 1
  },
  {
   "cell_type": "markdown",
   "source": [
    "### 二叉树中序遍历 \n",
    "\n",
    "二叉树中序遍历访问节点的顺序是：“左-根-右”。首先递归地遍历左子树，然后访问根节点，最后遍历右子树："
   ],
   "metadata": {
    "collapsed": false
   },
   "id": "888aeb8b2c8a221b"
  },
  {
   "cell_type": "code",
   "outputs": [
    {
     "name": "stdout",
     "output_type": "stream",
     "text": [
      "中序遍历:\n",
      "4 2 5 1 3 "
     ]
    }
   ],
   "source": [
    "class Node:\n",
    "    def __init__(self, value, left=None, right=None):\n",
    "        self.value = value\n",
    "        self.left = left\n",
    "        self.right = right\n",
    "\n",
    "\n",
    "def in_order_traversal(node):\n",
    "    \"\"\"中序遍历：左->根->右\"\"\"\n",
    "    if node is not None:\n",
    "        in_order_traversal(node.left)  # 遍历左子树\n",
    "        print(node.value, end=' ')  # 访问根节点\n",
    "        in_order_traversal(node.right)  # 遍历右子树\n",
    "\n",
    "\n",
    "# 创建一个简单的二叉树\n",
    "#       1\n",
    "#      / \\\n",
    "#     2   3\n",
    "#    / \\\n",
    "#   4   5\n",
    "root = Node(1)\n",
    "root.left = Node(2)\n",
    "root.right = Node(3)\n",
    "root.left.left = Node(4)\n",
    "root.left.right = Node(5)\n",
    "\n",
    "print(\"中序遍历:\")\n",
    "in_order_traversal(root)  # 输出: 4 2 5 1 3\n"
   ],
   "metadata": {
    "collapsed": false,
    "ExecuteTime": {
     "end_time": "2024-05-09T15:46:09.609182Z",
     "start_time": "2024-05-09T15:46:09.596956Z"
    }
   },
   "id": "b16926925a80d43c",
   "execution_count": 2
  },
  {
   "cell_type": "markdown",
   "source": [
    "### 二叉树后序遍历\n",
    "\n",
    "后序遍历的顺序是“左-右-根”。首先递归地遍历左子树，然后遍历右子树，最后访问根节点:"
   ],
   "metadata": {
    "collapsed": false
   },
   "id": "267b3ef587aaf048"
  },
  {
   "cell_type": "code",
   "outputs": [
    {
     "name": "stdout",
     "output_type": "stream",
     "text": [
      "后序遍历:\n",
      "4 5 2 3 1 "
     ]
    }
   ],
   "source": [
    "class Node:\n",
    "    def __init__(self, value, left=None, right=None):\n",
    "        self.value = value\n",
    "        self.left = left\n",
    "        self.right = right\n",
    "\n",
    "\n",
    "def post_order_traversal(node):\n",
    "    \"\"\"后序遍历：左->右->根\"\"\"\n",
    "    if node is not None:\n",
    "        post_order_traversal(node.left)  # 遍历左子树\n",
    "        post_order_traversal(node.right)  # 遍历右子树\n",
    "        print(node.value, end=' ')  # 访问根节点\n",
    "\n",
    "\n",
    "# 创建一个简单的二叉树\n",
    "#       1\n",
    "#      / \\\n",
    "#     2   3\n",
    "#    / \\\n",
    "#   4   5\n",
    "root = Node(1)\n",
    "root.left = Node(2)\n",
    "root.right = Node(3)\n",
    "root.left.left = Node(4)\n",
    "root.left.right = Node(5)\n",
    "\n",
    "print(\"后序遍历:\")\n",
    "post_order_traversal(root)  # 输出: 4 5 2 3 1\n"
   ],
   "metadata": {
    "collapsed": false,
    "ExecuteTime": {
     "end_time": "2024-05-09T15:46:09.609973Z",
     "start_time": "2024-05-09T15:46:09.597785Z"
    }
   },
   "id": "16e721b57ebc570e",
   "execution_count": 3
  }
 ],
 "metadata": {
  "kernelspec": {
   "display_name": "Python 3",
   "language": "python",
   "name": "python3"
  },
  "language_info": {
   "codemirror_mode": {
    "name": "ipython",
    "version": 2
   },
   "file_extension": ".py",
   "mimetype": "text/x-python",
   "name": "python",
   "nbconvert_exporter": "python",
   "pygments_lexer": "ipython2",
   "version": "2.7.6"
  }
 },
 "nbformat": 4,
 "nbformat_minor": 5
}
