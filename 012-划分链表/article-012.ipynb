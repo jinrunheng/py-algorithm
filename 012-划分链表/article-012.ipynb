{
 "cells": [
  {
   "cell_type": "markdown",
   "source": [
    "## 划分链表\n",
    "\n",
    "题目链接：https://leetcode.cn/problems/partition-list/description/\n",
    "\n",
    "本题要求我们对一个链表进行重新排序，将其分为两部分：一部分包含所有小于给定值 x 的节点，另一部分包含所有大于等于 x 的节点。然后，将小于 x 的部分连接到大于等于 x 的部分前面，形成一个新的链表，并保留两个分区中每个节点的初始相对位置。"
   ],
   "metadata": {
    "collapsed": false
   },
   "id": "e271ebb23f3b4fd7"
  },
  {
   "cell_type": "markdown",
   "source": [
    "### 模拟\n",
    "\n",
    "算法的执行流程如下：\n",
    "\n",
    "1. 初始化：\n",
    "\n",
    "    - 创建两个虚拟头节点 `left_part` 和 `right_part`，分别代表小于 `x` 的链表部分和大于等于 `x` 的链表部分。\n",
    "    - 初始化两个指针 `left_cur` 和 `right_cur`，分别指向 `left_part` 和 `right_part`，用于遍历和添加节点。\n",
    "\n",
    "2. 遍历原链表并分区：\n",
    "\n",
    "    - 当原链表 `head` 不为空时，进入循环。\n",
    "    - 如果当前节点的值 `head.val` 小于 `x`，则将该节点添加到 `left_cur` 指向的链表的末尾，并更新 `left_cur` 指针。\n",
    "    - 否则，将该节点添加到 `right_cur` 指向的链表的末尾，并更新 `right_cur` 指针。\n",
    "    - 注意，在添加节点后，需要将新添加的节点的 `next` 指针设为 `None`，以确保链表的正确性。\n",
    "\n",
    "3. 连接两个分区：\n",
    "\n",
    "    - 将小于 `x` 的链表部分（`left_cur` 指向的链表）的末尾连接到大于等于 `x` 的链表部分（`right_part.next` 指向的链表）的开头。\n",
    "\n",
    "4. 返回结果：\n",
    "\n",
    "    返回小于 `x` 的链表部分的头节点（即 `left_part.next`），这是重新排序后的链表的头节点。\n",
    "\n",
    "这种算法实现了链表的分区操作，将所有小于 `x` 的节点放在了所有大于等于 `x` 的节点前面，同时保持了原链表中的相对顺序。\n",
    "\n",
    "代码如下："
   ],
   "metadata": {
    "collapsed": false
   },
   "id": "a2d8f249cac79a0f"
  },
  {
   "cell_type": "code",
   "outputs": [
    {
     "name": "stdout",
     "output_type": "stream",
     "text": [
      "初始链表：4 -> 3 -> 2 -> 5 -> 1 -> None\n",
      "特定值 x： 3\n",
      "分割链表：2 -> 1 -> 4 -> 3 -> 5 -> None\n"
     ]
    }
   ],
   "source": [
    "from typing import Optional\n",
    "\n",
    "\n",
    "class ListNode:\n",
    "    def __init__(self, val=0, next=None):\n",
    "        self.val = val\n",
    "        self.next = next\n",
    "\n",
    "\n",
    "class LinkedList:\n",
    "    def __init__(self):\n",
    "        self.head = None\n",
    "\n",
    "    def append(self, data):\n",
    "        if not self.head:\n",
    "            self.head = ListNode(data)\n",
    "        else:\n",
    "            current = self.head\n",
    "            while current.next:\n",
    "                current = current.next\n",
    "            current.next = ListNode(data)\n",
    "\n",
    "\n",
    "class Solution:\n",
    "\n",
    "    @staticmethod\n",
    "    def print_linked_list(head: Optional[ListNode]):\n",
    "        current = head\n",
    "        while current:\n",
    "            print(f\"{current.val}\", end=\"\")\n",
    "            if current:\n",
    "                print(\" -> \", end=\"\")\n",
    "            current = current.next\n",
    "        print('None')\n",
    "\n",
    "    def partition(self, head: Optional[ListNode], x: int) -> Optional[ListNode]:\n",
    "        left_part = ListNode(-1)\n",
    "        right_part = ListNode(-1)\n",
    "        left_cur = left_part\n",
    "        right_cur = right_part\n",
    "        while head:\n",
    "            if head.val < x:\n",
    "                left_cur.next = head\n",
    "                head = head.next\n",
    "                left_cur = left_cur.next\n",
    "                left_cur.next = None\n",
    "            else:\n",
    "                right_cur.next = head\n",
    "                head = head.next\n",
    "                right_cur = right_cur.next\n",
    "                right_cur.next = None\n",
    "\n",
    "        left_cur.next = right_part.next\n",
    "        return left_part.next\n",
    "\n",
    "\n",
    "sol = Solution()\n",
    "linkedList = LinkedList()\n",
    "linkedList.append(4)\n",
    "linkedList.append(3)\n",
    "linkedList.append(2)\n",
    "linkedList.append(5)\n",
    "linkedList.append(1)\n",
    "print(\"初始链表：\", end='')\n",
    "sol.print_linked_list(linkedList.head)\n",
    "print(\"特定值 x：\", 3)\n",
    "print(\"分割链表：\", end='')\n",
    "partition_head = sol.partition(linkedList.head, 3)\n",
    "sol.print_linked_list(partition_head)\n"
   ],
   "metadata": {
    "collapsed": false,
    "ExecuteTime": {
     "end_time": "2024-04-17T16:47:01.084257Z",
     "start_time": "2024-04-17T16:47:01.046809Z"
    }
   },
   "id": "5088e8899d06d1d7",
   "execution_count": 1
  },
  {
   "cell_type": "markdown",
   "source": [
    "## 挑战题：148. 排序链表\n",
    "\n",
    "题目链接：https://leetcode.cn/problems/sort-list/description/\n",
    "\n",
    "题目描述：给定一个链表的头节点 `head`，要求我们返回一个新的链表，该链表包含了原链表所有的节点，但节点按值从小到大排序。"
   ],
   "metadata": {
    "collapsed": false
   },
   "id": "6bf1901801129261"
  },
  {
   "cell_type": "markdown",
   "source": [
    "### 归并排序\n",
    "\n"
   ],
   "metadata": {
    "collapsed": false
   },
   "id": "94b8c9a607e69b04"
  }
 ],
 "metadata": {
  "kernelspec": {
   "display_name": "Python 3",
   "language": "python",
   "name": "python3"
  },
  "language_info": {
   "codemirror_mode": {
    "name": "ipython",
    "version": 2
   },
   "file_extension": ".py",
   "mimetype": "text/x-python",
   "name": "python",
   "nbconvert_exporter": "python",
   "pygments_lexer": "ipython2",
   "version": "2.7.6"
  }
 },
 "nbformat": 4,
 "nbformat_minor": 5
}
